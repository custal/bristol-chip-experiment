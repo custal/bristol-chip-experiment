{
 "cells": [
  {
   "cell_type": "code",
   "execution_count": 1,
   "id": "882f0a74",
   "metadata": {},
   "outputs": [],
   "source": [
    "import numpy as np\n",
    "import pandas as pd\n",
    "import seaborn as sns"
   ]
  },
  {
   "cell_type": "markdown",
   "id": "63c3e848",
   "metadata": {},
   "source": [
    "### data generator\n",
    "All of this is in nm"
   ]
  },
  {
   "cell_type": "code",
   "execution_count": 2,
   "id": "086ce721",
   "metadata": {},
   "outputs": [],
   "source": [
    "def fsr(lam, ng, L):\n",
    "    \"\"\"returns the spacing to the next FSR at higher wavelength from this one\"\"\"\n",
    "    return lam**2 / (ng * L)\n",
    "\n",
    "def Lorentzian(x,center, width, amp):\n",
    "    \"\"\"standard lorentzian function, creates that lineshape\n",
    "    \n",
    "    amplitude is integated into the function for resonance dip visibility\"\"\"\n",
    "    wf = (width/2)\n",
    "    \n",
    "    height = amp * wf # normalise to height 1 then multiply by amplitude wanted\n",
    "    denom = (np.pi)*(x-center)**2  + wf**2 \n",
    "    return height* wf/denom\n",
    "\n",
    "\n",
    "elemwise_lorentzian = np.vectorize(Lorentzian)"
   ]
  },
  {
   "cell_type": "code",
   "execution_count": 7,
   "id": "e3393c52",
   "metadata": {},
   "outputs": [],
   "source": [
    "def res_in_range(offset,wavelength,ng,L):\n",
    "    \"\"\"function that creates a list of the centres of the FSR dips in a range, \n",
    "    offset changes where the first one will be placed, otherwise the first will be at 0.\"\"\"\n",
    "    pos = [offset+wavelength[0]]\n",
    "    \n",
    "    while pos[-1] <= wavelength[-1]:\n",
    "        pos.append(fsr(pos[-1],ng,L)+pos[-1])\n",
    "    else:\n",
    "        return pos\n",
    "\n",
    "\n",
    "def overlay_function(lam):\n",
    "    \"\"\"the spectrum the ring resonance dips subract from\n",
    "    output in dBM, \n",
    "    created becasue this isnt always flat, can be a larger gaussian etc\"\"\"\n",
    "    return 1\n",
    "elemwise_overlay = np.vectorize(overlay_function)\n",
    "\n",
    "\n",
    "\n",
    "\n",
    "def ring_res_sim(wavelength, FSR_width, visibility,first_res_offset,ng,L):\n",
    "    \"\"\"Simulates the spectrum of a ring resonator!\n",
    "    generates the dips for all the resonances, and subtracts from the overlay function\"\"\"\n",
    "    FSR_effect = np.zeros(wavelength.shape)\n",
    "    \n",
    "    for Ls in res_in_range(first_res_offset,wavelength,ng,L):\n",
    "        FSR_effect = FSR_effect + Lorentzian(wavelength,Ls,FSR_width,visibility)  \n",
    "\n",
    "    return overlay_function(wavelength) - FSR_effect"
   ]
  },
  {
   "cell_type": "code",
   "execution_count": 17,
   "id": "6c1f6e32",
   "metadata": {},
   "outputs": [],
   "source": [
    "#sweep \n",
    "min_wav = 1545 \n",
    "max_wav = 1555\n",
    "resolution = 100\n",
    "\n",
    "wavelength = np.linspace(min_wav,max_wav,resolution)\n",
    "\n",
    "# ring variables\n",
    "visibility = 0.8\n",
    "FSR_width = 0.2\n",
    "ng = 3.4\n",
    "L= 180000\n",
    "offset = -3\n",
    "\n",
    "\n",
    "power =  ring_res_sim(wavelength,FSR_width,visibility,offset,ng,L)"
   ]
  },
  {
   "cell_type": "code",
   "execution_count": 22,
   "id": "e3c9519a",
   "metadata": {},
   "outputs": [
    {
     "data": {
      "text/plain": [
       "<AxesSubplot:xlabel='wavelength', ylabel='p'>"
      ]
     },
     "execution_count": 22,
     "metadata": {},
     "output_type": "execute_result"
    },
    {
     "data": {
      "image/png": "[encoded data removed]",
      "text/plain": [
       "<Figure size 432x288 with 1 Axes>"
      ]
     },
     "metadata": {
      "needs_background": "light"
     },
     "output_type": "display_data"
    }
   ],
   "source": [
    "#turn numpy arrays into Panda data\n",
    "data = pd.DataFrame(data = np.transpose(np.vstack((wavelength,power))), columns = [\"wavelength\",\"p\"])\n",
    "\n",
    "#save data to CSV\n",
    "data.to_csv(f\"simulated_ring_spectrum_{min_wav}-{max_wav}nm_L{L}_vis{visibility}_res{resolution}_offset{-3}\")\n",
    "\n",
    "#plot\n",
    "sns.lineplot(data=data,x=\"wavelength\",y=\"power\")"
   ]
  },
  {
   "cell_type": "code",
   "execution_count": null,
   "id": "8bdf42df",
   "metadata": {},
   "outputs": [],
   "source": [
    "\n",
    "    "
   ]
  },
  {
   "cell_type": "code",
   "execution_count": null,
   "id": "6ac6b2b8",
   "metadata": {},
   "outputs": [],
   "source": []
  },
  {
   "cell_type": "code",
   "execution_count": null,
   "id": "6f818e41",
   "metadata": {},
   "outputs": [],
   "source": []
  }
 ],
 "metadata": {
  "kernelspec": {
   "display_name": "Python 3 (ipykernel)",
   "language": "python",
   "name": "python3"
  },
  "language_info": {
   "codemirror_mode": {
    "name": "ipython",
    "version": 3
   },
   "file_extension": ".py",
   "mimetype": "text/x-python",
   "name": "python",
   "nbconvert_exporter": "python",
   "pygments_lexer": "ipython3",
   "version": "3.9.12"
  }
 },
 "nbformat": 4,
 "nbformat_minor": 5
}
