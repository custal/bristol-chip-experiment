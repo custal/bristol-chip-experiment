{
 "cells": [
  {
   "cell_type": "code",
   "execution_count": 8,
   "id": "7ecea919",
   "metadata": {},
   "outputs": [],
   "source": [
    "from detectorConnection import Detectotron\n",
    "from core.utils import open_time_stamped_file\n",
    "from core import *\n",
    "import time\n",
    "import numpy as np"
   ]
  },
  {
   "cell_type": "code",
   "execution_count": 2,
   "id": "873d42aa",
   "metadata": {},
   "outputs": [
    {
     "name": "stdout",
     "output_type": "stream",
     "text": [
      "type : setup\n",
      "waterloo_data_mode : timetag\n",
      "user_name : (unknown user)\n",
      "user_platform : (unknown platform)\n",
      "poll_time : 1.0\n",
      "tick_resolution : 1.5625e-10\n",
      "active_channels : 0\n",
      "input_threshold_volts : [-0.1, 0.04, 0.04, 0.14, 0.08, 0.05, -0.06, 0.09, 0.1, 0.09, 0.1, -0.15, 0.15, 0.18, 0.03, 0.02]\n",
      "channel_delay_ns : [0.0, 0.0, 9.21875, 43.90625, 0.0, 0.0, 0.0, 0.0, 20.0, 0.0, 0.0, 20.15625, 10.0, 7.03125, 9.21875, 0.0]\n",
      "coincidence_channels : []\n",
      "coincidence_windows_ns : []\n",
      "histogram_channels : 0\n",
      "histogram_windows_ns : 50.0\n",
      "slide_co_all_mask : 0\n",
      "slide_co_move_mask : 0\n",
      "slide_co_width : 0\n",
      "locked_channels : 0\n",
      "single_filter_channels : 65535\n",
      "edge_inversion_channels : 0\n",
      "single_filter_minimum_hits : 2\n",
      "single_filter_window_ns : 10.0\n",
      "connected_users : ['Dan', 'Chris', 'chris', '(unknown user)', 'chris', 'd', 'Ryan Tiew']\n",
      "connected_platforms : ['web', 'web', 'python3', '(unknown platform)', 'python3', 'web', 'web']\n",
      "connected_active_channels : [8704, 8704, 8704, 0, 8704, 0, 8704]\n"
     ]
    }
   ],
   "source": [
    "CHANNELS = [10, 14]\n",
    "COINCIDENCES = [10, 14]\n",
    "DELAYS = [0, 7]\n",
    "THRESHOLDS = [0.09, 0.18]\n",
    "GATE_WIDTH = 2  # ns\n",
    "HISTOGRAM_WINDOW = 30  # ns\n",
    "\n",
    "det = Detectotron(channels = CHANNELS, coincidences=COINCIDENCES, histogram_channels=CHANNELS,\n",
    "                  histogram_windows_ns=HISTOGRAM_WINDOW, user_name='chris', gate_width_ns=GATE_WIDTH,\n",
    "                  thresholds = THRESHOLDS,delay=DELAYS)"
   ]
  },
  {
   "cell_type": "code",
   "execution_count": 3,
   "id": "ab912bc0",
   "metadata": {},
   "outputs": [
    {
     "name": "stdout",
     "output_type": "stream",
     "text": [
      "Saving data to c:\\users\\pmesp\\onedrive\\documents\\bristol-chip-experiment\\Data\\13-12-2022\\13-12-2022_16-23_SNSPD_angela_ring_9_test.txt\n"
     ]
    }
   ],
   "source": [
    "hist = det.integrate(inttime=30)\n",
    "with open_time_stamped_file(filename='SNSPD_angela_ring_9_test', graph=False) as f:\n",
    "    f.write(str(hist))"
   ]
  },
  {
   "cell_type": "code",
   "execution_count": 10,
   "id": "992dcdc9",
   "metadata": {},
   "outputs": [],
   "source": [
    "laser = TunicsManager('ASRL6::INSTR')\n"
   ]
  },
  {
   "cell_type": "code",
   "execution_count": 16,
   "id": "eccc186c",
   "metadata": {},
   "outputs": [],
   "source": [
    "laser.set_state(False)\n",
    "# laser.set_power(5)\n"
   ]
  },
  {
   "cell_type": "code",
   "execution_count": 15,
   "id": "3a180d2d",
   "metadata": {},
   "outputs": [
    {
     "name": "stdout",
     "output_type": "stream",
     "text": [
      "Saving data to c:\\users\\pmesp\\onedrive\\documents\\bristol-chip-experiment\\Data\\13-12-2022\\13-12-2022_16-39_SNSPD_angela_ring_9_wavelength_sweep_coincidences.txt\n"
     ]
    }
   ],
   "source": [
    "central_wavelength = 1552.655\n",
    "width = 0.2\n",
    "res = 0.01\n",
    "integration_time = 120\n",
    "scan_range = np.arange(central_wavelength-width, central_wavelength+width+res, res)\n",
    "\n",
    "#wavelength sweep\n",
    "with open_time_stamped_file(filename='SNSPD_angela_ring_9_wavelength_sweep_coincidences', graph=False) as f:\n",
    "    for i,wavelength in enumerate(scan_range):\n",
    "        laser.set_wavelength(wavelength)\n",
    "        hist = det.integrate(inttime = integration_time)\n",
    "        hist['wavelength'] = wavelength\n",
    "        hist['power'] = 5\n",
    "        f.write(str(hist)+\"\\n\")\n"
   ]
  }
 ],
 "metadata": {
  "kernelspec": {
   "display_name": "Python 3 (ipykernel)",
   "language": "python",
   "name": "python3"
  },
  "language_info": {
   "codemirror_mode": {
    "name": "ipython",
    "version": 3
   },
   "file_extension": ".py",
   "mimetype": "text/x-python",
   "name": "python",
   "nbconvert_exporter": "python",
   "pygments_lexer": "ipython3",
   "version": "3.10.6"
  }
 },
 "nbformat": 4,
 "nbformat_minor": 5
}
